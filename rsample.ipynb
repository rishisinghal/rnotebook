{
 "cells": [
  {
   "cell_type": "code",
   "execution_count": 1,
   "id": "trying-inspiration",
   "metadata": {},
   "outputs": [],
   "source": [
    "library(bigrquery)"
   ]
  },
  {
   "cell_type": "code",
   "execution_count": 2,
   "id": "fancy-cooperation",
   "metadata": {},
   "outputs": [],
   "source": [
    "# Store the project id\n",
    "projectid = \"training-sandbox-sgp\"\n",
    "\n",
    "# Set your query\n",
    "sql <- \"SELECT * FROM `bigquery-public-data.usa_names.usa_1910_current` LIMIT 10\"\n",
    "\n",
    "# Run the query and store the data in a dataframe\n",
    "# df <- query_exec(sql, projectid, use_legacy_sql = FALSE)\n",
    "\n",
    "# Print the query result\n",
    "# df\n",
    "\n",
    "tb <- bq_project_query(projectid,sql)\n",
    "df<-bq_table_download(tb)"
   ]
  },
  {
   "cell_type": "code",
   "execution_count": 3,
   "id": "informative-liquid",
   "metadata": {},
   "outputs": [],
   "source": [
    "dir.create(file.path('data'), showWarnings = FALSE)\n",
    "write.table(df, \"data/rdata.csv\",row.names = FALSE, col.names = FALSE, sep = \",\")"
   ]
  },
  {
   "cell_type": "code",
   "execution_count": 4,
   "id": "fitting-brisbane",
   "metadata": {},
   "outputs": [
    {
     "data": {
      "text/html": [
       "<style>\n",
       ".list-inline {list-style: none; margin:0; padding: 0}\n",
       ".list-inline>li {display: inline-block}\n",
       ".list-inline>li:not(:last-child)::after {content: \"\\00b7\"; padding: 0 .5ex}\n",
       "</style>\n",
       "<ol class=list-inline><li><span style=white-space:pre-wrap>'       269  2021-03-02T14:54:48Z  gs://rislabs/rfolder/rdata.csv'</span></li><li>'TOTAL: 1 objects, 269 bytes (269 B)'</li></ol>\n"
      ],
      "text/latex": [
       "\\begin{enumerate*}\n",
       "\\item '       269  2021-03-02T14:54:48Z  gs://rislabs/rfolder/rdata.csv'\n",
       "\\item 'TOTAL: 1 objects, 269 bytes (269 B)'\n",
       "\\end{enumerate*}\n"
      ],
      "text/markdown": [
       "1. <span style=white-space:pre-wrap>'       269  2021-03-02T14:54:48Z  gs://rislabs/rfolder/rdata.csv'</span>\n",
       "2. 'TOTAL: 1 objects, 269 bytes (269 B)'\n",
       "\n",
       "\n"
      ],
      "text/plain": [
       "[1] \"       269  2021-03-02T14:54:48Z  gs://rislabs/rfolder/rdata.csv\"\n",
       "[2] \"TOTAL: 1 objects, 269 bytes (269 B)\"                             "
      ]
     },
     "metadata": {},
     "output_type": "display_data"
    }
   ],
   "source": [
    "BUCKET_NAME <- \"rislabs\"\n",
    "gcs_data_dir <- paste0(\"gs://\", BUCKET_NAME, \"/rfolder/\")\n",
    "command <- paste(\"gsutil cp data/rdata.csv\", gcs_data_dir)\n",
    "system(command)\n",
    "\n",
    "command <- paste(\"gsutil ls -l\", gcs_data_dir)\n",
    "system(command, intern = TRUE)"
   ]
  },
  {
   "cell_type": "code",
   "execution_count": null,
   "id": "native-peace",
   "metadata": {},
   "outputs": [],
   "source": []
  }
 ],
 "metadata": {
  "environment": {
   "name": "r-cpu.3-6.mnightly-2021-02-12-debian-10-test",
   "type": "gcloud",
   "uri": "gcr.io/deeplearning-platform-release/r-cpu.3-6:mnightly-2021-02-12-debian-10-test"
  },
  "kernelspec": {
   "display_name": "R",
   "language": "R",
   "name": "ir"
  },
  "language_info": {
   "codemirror_mode": "r",
   "file_extension": ".r",
   "mimetype": "text/x-r-source",
   "name": "R",
   "pygments_lexer": "r",
   "version": "3.6.3"
  }
 },
 "nbformat": 4,
 "nbformat_minor": 5
}
